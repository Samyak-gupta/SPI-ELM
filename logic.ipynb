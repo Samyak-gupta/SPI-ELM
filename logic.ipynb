{
 "cells": [
  {
   "cell_type": "code",
   "execution_count": 4,
   "metadata": {},
   "outputs": [],
   "source": [
    "\n",
    "def geninv():\n",
    "    # Returns the Moore-Penrose inverse of the argument\n",
    "    # Transpose if m < n\n",
    "    [m, n] = size(G)\n",
    "    transpose = false; \n",
    "    print(transpose)\n",
    "\n",
    "    if m < n:\n",
    "        transpose = true\n",
    "        A = G * G.cT\n",
    "        n = m\n",
    "    else:\n",
    "        A = G.cT * G\n",
    "    end\n",
    "    # Full rank Cholesky factorization of A\n",
    "    dA = diag(A)\n",
    "    tol = min(dA(dA > 0)) * 1e-9; \n",
    "    print(tol)\n",
    "\n",
    "    L = zeros(size(A))\n",
    "    r = 0\n",
    "    for k in mslice[1:n]:\n",
    "        r = r + 1\n",
    "        L(mslice[k:n], r).lvalue = A(mslice[k:n], k) - L(mslice[k:n], mslice[1:(r - 1)]) * L(k, mslice[1:(r - 1)]).cT\n",
    "        # Note: for r=1, the substracted vector is zero\n",
    "        if L(k, r) > tol:\n",
    "            L(k, r).lvalue = sqrt(L(k, r))\n",
    "            if k < n:\n",
    "                L(mslice[(k + 1):n], r).lvalue = L(mslice[(k + 1):n], r) / L(k, r)\n",
    "            end\n",
    "        else:\n",
    "            r = r - 1\n",
    "        end\n",
    "    end\n",
    "    L = L(mslice[:], mslice[1:r])\n",
    "    # Computation of the generalized inverse of G\n",
    "    M = inv(L.cT * L)\n",
    "    if transpose:\n",
    "        Y = G.cT * L * M * M * L.cT\n",
    "    else:\n",
    "        Y = L * M * M * L.cT * G.cT\n",
    "    end"
   ]
  },
  {
   "cell_type": "code",
   "execution_count": null,
   "metadata": {},
   "outputs": [],
   "source": []
  }
 ],
 "metadata": {
  "kernelspec": {
   "display_name": "Python 3",
   "language": "python",
   "name": "python3"
  },
  "language_info": {
   "codemirror_mode": {
    "name": "ipython",
    "version": 3
   },
   "file_extension": ".py",
   "mimetype": "text/x-python",
   "name": "python",
   "nbconvert_exporter": "python",
   "pygments_lexer": "ipython3",
   "version": "3.7.4"
  }
 },
 "nbformat": 4,
 "nbformat_minor": 2
}
